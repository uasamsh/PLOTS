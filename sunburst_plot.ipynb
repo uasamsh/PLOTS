{
 "cells": [
  {
   "cell_type": "markdown",
   "metadata": {},
   "source": [
    "# Sunbusrt Plot dataset `tips`"
   ]
  },
  {
   "cell_type": "code",
   "execution_count": 1,
   "metadata": {},
   "outputs": [
    {
     "name": "stdout",
     "output_type": "stream",
     "text": [
      "Requirement already satisfied: plotly in c:\\users\\ushah\\miniconda3\\envs\\python_eda\\lib\\site-packages (5.18.0)\n",
      "Requirement already satisfied: tenacity>=6.2.0 in c:\\users\\ushah\\miniconda3\\envs\\python_eda\\lib\\site-packages (from plotly) (8.2.3)\n",
      "Requirement already satisfied: packaging in c:\\users\\ushah\\miniconda3\\envs\\python_eda\\lib\\site-packages (from plotly) (23.2)\n",
      "Note: you may need to restart the kernel to use updated packages.\n"
     ]
    }
   ],
   "source": [
    "pip install plotly"
   ]
  },
  {
   "cell_type": "code",
   "execution_count": 2,
   "metadata": {},
   "outputs": [],
   "source": [
    "import plotly.express as px\n",
    "import seaborn as sns\n",
    "\n"
   ]
  },
  {
   "cell_type": "code",
   "execution_count": 3,
   "metadata": {},
   "outputs": [
    {
     "data": {
      "text/html": [
       "<div>\n",
       "<style scoped>\n",
       "    .dataframe tbody tr th:only-of-type {\n",
       "        vertical-align: middle;\n",
       "    }\n",
       "\n",
       "    .dataframe tbody tr th {\n",
       "        vertical-align: top;\n",
       "    }\n",
       "\n",
       "    .dataframe thead th {\n",
       "        text-align: right;\n",
       "    }\n",
       "</style>\n",
       "<table border=\"1\" class=\"dataframe\">\n",
       "  <thead>\n",
       "    <tr style=\"text-align: right;\">\n",
       "      <th></th>\n",
       "      <th>total_bill</th>\n",
       "      <th>tip</th>\n",
       "      <th>sex</th>\n",
       "      <th>smoker</th>\n",
       "      <th>day</th>\n",
       "      <th>time</th>\n",
       "      <th>size</th>\n",
       "    </tr>\n",
       "  </thead>\n",
       "  <tbody>\n",
       "    <tr>\n",
       "      <th>0</th>\n",
       "      <td>16.99</td>\n",
       "      <td>1.01</td>\n",
       "      <td>Female</td>\n",
       "      <td>No</td>\n",
       "      <td>Sun</td>\n",
       "      <td>Dinner</td>\n",
       "      <td>2</td>\n",
       "    </tr>\n",
       "    <tr>\n",
       "      <th>1</th>\n",
       "      <td>10.34</td>\n",
       "      <td>1.66</td>\n",
       "      <td>Male</td>\n",
       "      <td>No</td>\n",
       "      <td>Sun</td>\n",
       "      <td>Dinner</td>\n",
       "      <td>3</td>\n",
       "    </tr>\n",
       "    <tr>\n",
       "      <th>2</th>\n",
       "      <td>21.01</td>\n",
       "      <td>3.50</td>\n",
       "      <td>Male</td>\n",
       "      <td>No</td>\n",
       "      <td>Sun</td>\n",
       "      <td>Dinner</td>\n",
       "      <td>3</td>\n",
       "    </tr>\n",
       "    <tr>\n",
       "      <th>3</th>\n",
       "      <td>23.68</td>\n",
       "      <td>3.31</td>\n",
       "      <td>Male</td>\n",
       "      <td>No</td>\n",
       "      <td>Sun</td>\n",
       "      <td>Dinner</td>\n",
       "      <td>2</td>\n",
       "    </tr>\n",
       "    <tr>\n",
       "      <th>4</th>\n",
       "      <td>24.59</td>\n",
       "      <td>3.61</td>\n",
       "      <td>Female</td>\n",
       "      <td>No</td>\n",
       "      <td>Sun</td>\n",
       "      <td>Dinner</td>\n",
       "      <td>4</td>\n",
       "    </tr>\n",
       "  </tbody>\n",
       "</table>\n",
       "</div>"
      ],
      "text/plain": [
       "   total_bill   tip     sex smoker  day    time  size\n",
       "0       16.99  1.01  Female     No  Sun  Dinner     2\n",
       "1       10.34  1.66    Male     No  Sun  Dinner     3\n",
       "2       21.01  3.50    Male     No  Sun  Dinner     3\n",
       "3       23.68  3.31    Male     No  Sun  Dinner     2\n",
       "4       24.59  3.61  Female     No  Sun  Dinner     4"
      ]
     },
     "execution_count": 3,
     "metadata": {},
     "output_type": "execute_result"
    }
   ],
   "source": [
    "tips = sns.load_dataset('tips')\n",
    "tips.head()\n"
   ]
  },
  {
   "cell_type": "code",
   "execution_count": 7,
   "metadata": {},
   "outputs": [
    {
     "name": "stderr",
     "output_type": "stream",
     "text": [
      "c:\\Users\\ushah\\miniconda3\\envs\\python_eda\\Lib\\site-packages\\plotly\\express\\_core.py:1699: FutureWarning: The default of observed=False is deprecated and will be changed to True in a future version of pandas. Pass observed=False to retain current behavior or observed=True to adopt the future default and silence this warning.\n",
      "  dfg = df.groupby(path[i:]).agg(agg_f)\n",
      "c:\\Users\\ushah\\miniconda3\\envs\\python_eda\\Lib\\site-packages\\plotly\\express\\_core.py:1699: FutureWarning: The default of observed=False is deprecated and will be changed to True in a future version of pandas. Pass observed=False to retain current behavior or observed=True to adopt the future default and silence this warning.\n",
      "  dfg = df.groupby(path[i:]).agg(agg_f)\n",
      "c:\\Users\\ushah\\miniconda3\\envs\\python_eda\\Lib\\site-packages\\plotly\\express\\_core.py:1699: FutureWarning: The default of observed=False is deprecated and will be changed to True in a future version of pandas. Pass observed=False to retain current behavior or observed=True to adopt the future default and silence this warning.\n",
      "  dfg = df.groupby(path[i:]).agg(agg_f)\n",
      "c:\\Users\\ushah\\miniconda3\\envs\\python_eda\\Lib\\site-packages\\plotly\\express\\_core.py:1699: FutureWarning: The default of observed=False is deprecated and will be changed to True in a future version of pandas. Pass observed=False to retain current behavior or observed=True to adopt the future default and silence this warning.\n",
      "  dfg = df.groupby(path[i:]).agg(agg_f)\n"
     ]
    },
    {
     "data": {
      "application/vnd.plotly.v1+json": {
       "config": {
        "plotlyServerURL": "https://plot.ly"
       },
       "data": [
        {
         "branchvalues": "total",
         "customdata": [
          [
           30.58,
           "Thur",
           "Lunch",
           "Male"
          ],
          [
           14,
           "Sun",
           "Dinner",
           "Female"
          ],
          [
           0,
           null,
           null,
           null
          ],
          [
           18.78,
           "Fri",
           "(?)",
           "Female"
          ],
          [
           0,
           null,
           null,
           null
          ],
          [
           10.8,
           "Fri",
           "Dinner",
           "Female"
          ],
          [
           5,
           "Fri",
           "Dinner",
           "Male"
          ],
          [
           0,
           null,
           null,
           null
          ],
          [
           0,
           null,
           null,
           null
          ],
          [
           485.07,
           "(?)",
           "(?)",
           "Male"
          ],
          [
           5.7,
           "Fri",
           "Lunch",
           "Male"
          ],
          [
           20.93,
           "Thur",
           "Lunch",
           "Female"
          ],
          [
           30.58,
           "Thur",
           "Lunch",
           "Male"
          ],
          [
           149.77,
           "(?)",
           "(?)",
           "Female"
          ],
          [
           58.83,
           "Thur",
           "Lunch",
           "Male"
          ],
          [
           5,
           "Fri",
           "Dinner",
           "Male"
          ],
          [
           61.49,
           "Thur",
           "(?)",
           "Female"
          ],
          [
           21.93,
           "Fri",
           "(?)",
           "Male"
          ],
          [
           77.74,
           "Sat",
           "Dinner",
           "Male"
          ],
          [
           43.03,
           "Sat",
           "Dinner",
           "Female"
          ],
          [
           104.21000000000001,
           "Sat",
           "Dinner",
           "Male"
          ],
          [
           35.42,
           "Sat",
           "Dinner",
           "Female"
          ],
          [
           52.82,
           "Sun",
           "Dinner",
           "Male"
          ],
          [
           14,
           "Sun",
           "Dinner",
           "Female"
          ],
          [
           133.96,
           "Sun",
           "Dinner",
           "Male"
          ],
          [
           46.61,
           "Sun",
           "Dinner",
           "Female"
          ],
          [
           183.07,
           "(?)",
           "(?)",
           "Male"
          ],
          [
           96.74,
           "(?)",
           "(?)",
           "Female"
          ],
          [
           302,
           "(?)",
           "(?)",
           "Male"
          ],
          [
           6.25,
           "Fri",
           "(?)",
           "Female"
          ],
          [
           46.61,
           "Sun",
           "Dinner",
           "Female"
          ],
          [
           104.21000000000001,
           "Sat",
           "Dinner",
           "Male"
          ],
          [
           52.82,
           "Sun",
           "Dinner",
           "Male"
          ],
          [
           20.93,
           "Thur",
           "Lunch",
           "Female"
          ],
          [
           58.83,
           "Thur",
           "Lunch",
           "Male"
          ],
          [
           58.49,
           "Thur",
           "Lunch",
           "Female"
          ],
          [
           7.98,
           "Fri",
           "Lunch",
           "Female"
          ],
          [
           0,
           null,
           null,
           null
          ],
          [
           3,
           "Fri",
           "Lunch",
           "Female"
          ],
          [
           0,
           null,
           null,
           null
          ],
          [
           0,
           null,
           null,
           null
          ],
          [
           0,
           null,
           null,
           null
          ],
          [
           0,
           null,
           null,
           null
          ],
          [
           0,
           null,
           null,
           null
          ],
          [
           0,
           null,
           null,
           null
          ],
          [
           0,
           null,
           null,
           null
          ],
          [
           3,
           "Thur",
           "Dinner",
           "Female"
          ],
          [
           16.23,
           "Fri",
           "Dinner",
           "Male"
          ],
          [
           3.25,
           "Fri",
           "Dinner",
           "Female"
          ],
          [
           77.74,
           "Sat",
           "Dinner",
           "Male"
          ],
          [
           43.03,
           "Sat",
           "Dinner",
           "Female"
          ],
          [
           35.42,
           "Sat",
           "Dinner",
           "Female"
          ],
          [
           133.96,
           "Sun",
           "Dinner",
           "Male"
          ],
          [
           246.51,
           "(?)",
           "(?)",
           "Female"
          ]
         ],
         "domain": {
          "x": [
           0,
           1
          ],
          "y": [
           0,
           1
          ]
         },
         "hovertemplate": "labels=%{label}<br>tip=%{customdata[0]}<br>parent=%{parent}<br>id=%{id}<br>day=%{customdata[1]}<br>time=%{customdata[2]}<br>sex=%{customdata[3]}<extra></extra>",
         "ids": [
          "Male/Yes/Thur/Lunch",
          "Female/Yes/Sun/Dinner",
          "Male/No/Sun/Lunch",
          "Female/Yes/Fri",
          "Female/No/Sat/Lunch",
          "Female/Yes/Fri/Dinner",
          "Male/No/Fri/Dinner",
          "Male/Yes/Thur/Dinner",
          "Male/No/Thur/Dinner",
          "Male",
          "Male/Yes/Fri/Lunch",
          "Female/Yes/Thur",
          "Male/Yes/Thur",
          "Female/No",
          "Male/No/Thur",
          "Male/No/Fri",
          "Female/No/Thur",
          "Male/Yes/Fri",
          "Male/Yes/Sat",
          "Female/Yes/Sat",
          "Male/No/Sat",
          "Female/No/Sat",
          "Male/Yes/Sun",
          "Female/Yes/Sun",
          "Male/No/Sun",
          "Female/No/Sun",
          "Male/Yes",
          "Female/Yes",
          "Male/No",
          "Female/No/Fri",
          "Female/No/Sun/Dinner",
          "Male/No/Sat/Dinner",
          "Male/Yes/Sun/Dinner",
          "Female/Yes/Thur/Lunch",
          "Male/No/Thur/Lunch",
          "Female/No/Thur/Lunch",
          "Female/Yes/Fri/Lunch",
          "Male/No/Fri/Lunch",
          "Female/No/Fri/Lunch",
          "Male/Yes/Sat/Lunch",
          "Female/Yes/Sat/Lunch",
          "Male/No/Sat/Lunch",
          "Male/Yes/Sun/Lunch",
          "Female/Yes/Sun/Lunch",
          "Female/No/Sun/Lunch",
          "Female/Yes/Thur/Dinner",
          "Female/No/Thur/Dinner",
          "Male/Yes/Fri/Dinner",
          "Female/No/Fri/Dinner",
          "Male/Yes/Sat/Dinner",
          "Female/Yes/Sat/Dinner",
          "Female/No/Sat/Dinner",
          "Male/No/Sun/Dinner",
          "Female"
         ],
         "labels": [
          "Lunch",
          "Dinner",
          "Lunch",
          "Fri",
          "Lunch",
          "Dinner",
          "Dinner",
          "Dinner",
          "Dinner",
          "Male",
          "Lunch",
          "Thur",
          "Thur",
          "No",
          "Thur",
          "Fri",
          "Thur",
          "Fri",
          "Sat",
          "Sat",
          "Sat",
          "Sat",
          "Sun",
          "Sun",
          "Sun",
          "Sun",
          "Yes",
          "Yes",
          "No",
          "Fri",
          "Dinner",
          "Dinner",
          "Dinner",
          "Lunch",
          "Lunch",
          "Lunch",
          "Lunch",
          "Lunch",
          "Lunch",
          "Lunch",
          "Lunch",
          "Lunch",
          "Lunch",
          "Lunch",
          "Lunch",
          "Dinner",
          "Dinner",
          "Dinner",
          "Dinner",
          "Dinner",
          "Dinner",
          "Dinner",
          "Dinner",
          "Female"
         ],
         "marker": {
          "colors": [
           "#636efa",
           "#EF553B",
           "#00cc96",
           "#EF553B",
           "#00cc96",
           "#EF553B",
           "#636efa",
           "#00cc96",
           "#00cc96",
           "#636efa",
           "#636efa",
           "#EF553B",
           "#636efa",
           "#EF553B",
           "#636efa",
           "#636efa",
           "#EF553B",
           "#636efa",
           "#636efa",
           "#EF553B",
           "#636efa",
           "#EF553B",
           "#636efa",
           "#EF553B",
           "#636efa",
           "#EF553B",
           "#636efa",
           "#EF553B",
           "#636efa",
           "#EF553B",
           "#EF553B",
           "#636efa",
           "#636efa",
           "#EF553B",
           "#636efa",
           "#EF553B",
           "#EF553B",
           "#00cc96",
           "#EF553B",
           "#00cc96",
           "#00cc96",
           "#00cc96",
           "#00cc96",
           "#00cc96",
           "#00cc96",
           "#00cc96",
           "#EF553B",
           "#636efa",
           "#EF553B",
           "#636efa",
           "#EF553B",
           "#EF553B",
           "#636efa",
           "#EF553B"
          ]
         },
         "name": "",
         "parents": [
          "Male/Yes/Thur",
          "Female/Yes/Sun",
          "Male/No/Sun",
          "Female/Yes",
          "Female/No/Sat",
          "Female/Yes/Fri",
          "Male/No/Fri",
          "Male/Yes/Thur",
          "Male/No/Thur",
          "",
          "Male/Yes/Fri",
          "Female/Yes",
          "Male/Yes",
          "Female",
          "Male/No",
          "Male/No",
          "Female/No",
          "Male/Yes",
          "Male/Yes",
          "Female/Yes",
          "Male/No",
          "Female/No",
          "Male/Yes",
          "Female/Yes",
          "Male/No",
          "Female/No",
          "Male",
          "Female",
          "Male",
          "Female/No",
          "Female/No/Sun",
          "Male/No/Sat",
          "Male/Yes/Sun",
          "Female/Yes/Thur",
          "Male/No/Thur",
          "Female/No/Thur",
          "Female/Yes/Fri",
          "Male/No/Fri",
          "Female/No/Fri",
          "Male/Yes/Sat",
          "Female/Yes/Sat",
          "Male/No/Sat",
          "Male/Yes/Sun",
          "Female/Yes/Sun",
          "Female/No/Sun",
          "Female/Yes/Thur",
          "Female/No/Thur",
          "Male/Yes/Fri",
          "Female/No/Fri",
          "Male/Yes/Sat",
          "Female/Yes/Sat",
          "Female/No/Sat",
          "Male/No/Sun",
          ""
         ],
         "type": "sunburst",
         "values": [
          30.58,
          14,
          0,
          18.78,
          0,
          10.8,
          5,
          0,
          0,
          485.07,
          5.7,
          20.93,
          30.58,
          149.77,
          58.83,
          5,
          61.49,
          21.93,
          77.74,
          43.03,
          104.21000000000001,
          35.42,
          52.82,
          14,
          133.96,
          46.61,
          183.07,
          96.74,
          302,
          6.25,
          46.61,
          104.21000000000001,
          52.82,
          20.93,
          58.83,
          58.49,
          7.98,
          0,
          3,
          0,
          0,
          0,
          0,
          0,
          0,
          0,
          3,
          16.23,
          3.25,
          77.74,
          43.03,
          35.42,
          133.96,
          246.51
         ]
        }
       ],
       "layout": {
        "legend": {
         "tracegroupgap": 0
        },
        "margin": {
         "t": 60
        },
        "template": {
         "data": {
          "bar": [
           {
            "error_x": {
             "color": "#2a3f5f"
            },
            "error_y": {
             "color": "#2a3f5f"
            },
            "marker": {
             "line": {
              "color": "#E5ECF6",
              "width": 0.5
             },
             "pattern": {
              "fillmode": "overlay",
              "size": 10,
              "solidity": 0.2
             }
            },
            "type": "bar"
           }
          ],
          "barpolar": [
           {
            "marker": {
             "line": {
              "color": "#E5ECF6",
              "width": 0.5
             },
             "pattern": {
              "fillmode": "overlay",
              "size": 10,
              "solidity": 0.2
             }
            },
            "type": "barpolar"
           }
          ],
          "carpet": [
           {
            "aaxis": {
             "endlinecolor": "#2a3f5f",
             "gridcolor": "white",
             "linecolor": "white",
             "minorgridcolor": "white",
             "startlinecolor": "#2a3f5f"
            },
            "baxis": {
             "endlinecolor": "#2a3f5f",
             "gridcolor": "white",
             "linecolor": "white",
             "minorgridcolor": "white",
             "startlinecolor": "#2a3f5f"
            },
            "type": "carpet"
           }
          ],
          "choropleth": [
           {
            "colorbar": {
             "outlinewidth": 0,
             "ticks": ""
            },
            "type": "choropleth"
           }
          ],
          "contour": [
           {
            "colorbar": {
             "outlinewidth": 0,
             "ticks": ""
            },
            "colorscale": [
             [
              0,
              "#0d0887"
             ],
             [
              0.1111111111111111,
              "#46039f"
             ],
             [
              0.2222222222222222,
              "#7201a8"
             ],
             [
              0.3333333333333333,
              "#9c179e"
             ],
             [
              0.4444444444444444,
              "#bd3786"
             ],
             [
              0.5555555555555556,
              "#d8576b"
             ],
             [
              0.6666666666666666,
              "#ed7953"
             ],
             [
              0.7777777777777778,
              "#fb9f3a"
             ],
             [
              0.8888888888888888,
              "#fdca26"
             ],
             [
              1,
              "#f0f921"
             ]
            ],
            "type": "contour"
           }
          ],
          "contourcarpet": [
           {
            "colorbar": {
             "outlinewidth": 0,
             "ticks": ""
            },
            "type": "contourcarpet"
           }
          ],
          "heatmap": [
           {
            "colorbar": {
             "outlinewidth": 0,
             "ticks": ""
            },
            "colorscale": [
             [
              0,
              "#0d0887"
             ],
             [
              0.1111111111111111,
              "#46039f"
             ],
             [
              0.2222222222222222,
              "#7201a8"
             ],
             [
              0.3333333333333333,
              "#9c179e"
             ],
             [
              0.4444444444444444,
              "#bd3786"
             ],
             [
              0.5555555555555556,
              "#d8576b"
             ],
             [
              0.6666666666666666,
              "#ed7953"
             ],
             [
              0.7777777777777778,
              "#fb9f3a"
             ],
             [
              0.8888888888888888,
              "#fdca26"
             ],
             [
              1,
              "#f0f921"
             ]
            ],
            "type": "heatmap"
           }
          ],
          "heatmapgl": [
           {
            "colorbar": {
             "outlinewidth": 0,
             "ticks": ""
            },
            "colorscale": [
             [
              0,
              "#0d0887"
             ],
             [
              0.1111111111111111,
              "#46039f"
             ],
             [
              0.2222222222222222,
              "#7201a8"
             ],
             [
              0.3333333333333333,
              "#9c179e"
             ],
             [
              0.4444444444444444,
              "#bd3786"
             ],
             [
              0.5555555555555556,
              "#d8576b"
             ],
             [
              0.6666666666666666,
              "#ed7953"
             ],
             [
              0.7777777777777778,
              "#fb9f3a"
             ],
             [
              0.8888888888888888,
              "#fdca26"
             ],
             [
              1,
              "#f0f921"
             ]
            ],
            "type": "heatmapgl"
           }
          ],
          "histogram": [
           {
            "marker": {
             "pattern": {
              "fillmode": "overlay",
              "size": 10,
              "solidity": 0.2
             }
            },
            "type": "histogram"
           }
          ],
          "histogram2d": [
           {
            "colorbar": {
             "outlinewidth": 0,
             "ticks": ""
            },
            "colorscale": [
             [
              0,
              "#0d0887"
             ],
             [
              0.1111111111111111,
              "#46039f"
             ],
             [
              0.2222222222222222,
              "#7201a8"
             ],
             [
              0.3333333333333333,
              "#9c179e"
             ],
             [
              0.4444444444444444,
              "#bd3786"
             ],
             [
              0.5555555555555556,
              "#d8576b"
             ],
             [
              0.6666666666666666,
              "#ed7953"
             ],
             [
              0.7777777777777778,
              "#fb9f3a"
             ],
             [
              0.8888888888888888,
              "#fdca26"
             ],
             [
              1,
              "#f0f921"
             ]
            ],
            "type": "histogram2d"
           }
          ],
          "histogram2dcontour": [
           {
            "colorbar": {
             "outlinewidth": 0,
             "ticks": ""
            },
            "colorscale": [
             [
              0,
              "#0d0887"
             ],
             [
              0.1111111111111111,
              "#46039f"
             ],
             [
              0.2222222222222222,
              "#7201a8"
             ],
             [
              0.3333333333333333,
              "#9c179e"
             ],
             [
              0.4444444444444444,
              "#bd3786"
             ],
             [
              0.5555555555555556,
              "#d8576b"
             ],
             [
              0.6666666666666666,
              "#ed7953"
             ],
             [
              0.7777777777777778,
              "#fb9f3a"
             ],
             [
              0.8888888888888888,
              "#fdca26"
             ],
             [
              1,
              "#f0f921"
             ]
            ],
            "type": "histogram2dcontour"
           }
          ],
          "mesh3d": [
           {
            "colorbar": {
             "outlinewidth": 0,
             "ticks": ""
            },
            "type": "mesh3d"
           }
          ],
          "parcoords": [
           {
            "line": {
             "colorbar": {
              "outlinewidth": 0,
              "ticks": ""
             }
            },
            "type": "parcoords"
           }
          ],
          "pie": [
           {
            "automargin": true,
            "type": "pie"
           }
          ],
          "scatter": [
           {
            "fillpattern": {
             "fillmode": "overlay",
             "size": 10,
             "solidity": 0.2
            },
            "type": "scatter"
           }
          ],
          "scatter3d": [
           {
            "line": {
             "colorbar": {
              "outlinewidth": 0,
              "ticks": ""
             }
            },
            "marker": {
             "colorbar": {
              "outlinewidth": 0,
              "ticks": ""
             }
            },
            "type": "scatter3d"
           }
          ],
          "scattercarpet": [
           {
            "marker": {
             "colorbar": {
              "outlinewidth": 0,
              "ticks": ""
             }
            },
            "type": "scattercarpet"
           }
          ],
          "scattergeo": [
           {
            "marker": {
             "colorbar": {
              "outlinewidth": 0,
              "ticks": ""
             }
            },
            "type": "scattergeo"
           }
          ],
          "scattergl": [
           {
            "marker": {
             "colorbar": {
              "outlinewidth": 0,
              "ticks": ""
             }
            },
            "type": "scattergl"
           }
          ],
          "scattermapbox": [
           {
            "marker": {
             "colorbar": {
              "outlinewidth": 0,
              "ticks": ""
             }
            },
            "type": "scattermapbox"
           }
          ],
          "scatterpolar": [
           {
            "marker": {
             "colorbar": {
              "outlinewidth": 0,
              "ticks": ""
             }
            },
            "type": "scatterpolar"
           }
          ],
          "scatterpolargl": [
           {
            "marker": {
             "colorbar": {
              "outlinewidth": 0,
              "ticks": ""
             }
            },
            "type": "scatterpolargl"
           }
          ],
          "scatterternary": [
           {
            "marker": {
             "colorbar": {
              "outlinewidth": 0,
              "ticks": ""
             }
            },
            "type": "scatterternary"
           }
          ],
          "surface": [
           {
            "colorbar": {
             "outlinewidth": 0,
             "ticks": ""
            },
            "colorscale": [
             [
              0,
              "#0d0887"
             ],
             [
              0.1111111111111111,
              "#46039f"
             ],
             [
              0.2222222222222222,
              "#7201a8"
             ],
             [
              0.3333333333333333,
              "#9c179e"
             ],
             [
              0.4444444444444444,
              "#bd3786"
             ],
             [
              0.5555555555555556,
              "#d8576b"
             ],
             [
              0.6666666666666666,
              "#ed7953"
             ],
             [
              0.7777777777777778,
              "#fb9f3a"
             ],
             [
              0.8888888888888888,
              "#fdca26"
             ],
             [
              1,
              "#f0f921"
             ]
            ],
            "type": "surface"
           }
          ],
          "table": [
           {
            "cells": {
             "fill": {
              "color": "#EBF0F8"
             },
             "line": {
              "color": "white"
             }
            },
            "header": {
             "fill": {
              "color": "#C8D4E3"
             },
             "line": {
              "color": "white"
             }
            },
            "type": "table"
           }
          ]
         },
         "layout": {
          "annotationdefaults": {
           "arrowcolor": "#2a3f5f",
           "arrowhead": 0,
           "arrowwidth": 1
          },
          "autotypenumbers": "strict",
          "coloraxis": {
           "colorbar": {
            "outlinewidth": 0,
            "ticks": ""
           }
          },
          "colorscale": {
           "diverging": [
            [
             0,
             "#8e0152"
            ],
            [
             0.1,
             "#c51b7d"
            ],
            [
             0.2,
             "#de77ae"
            ],
            [
             0.3,
             "#f1b6da"
            ],
            [
             0.4,
             "#fde0ef"
            ],
            [
             0.5,
             "#f7f7f7"
            ],
            [
             0.6,
             "#e6f5d0"
            ],
            [
             0.7,
             "#b8e186"
            ],
            [
             0.8,
             "#7fbc41"
            ],
            [
             0.9,
             "#4d9221"
            ],
            [
             1,
             "#276419"
            ]
           ],
           "sequential": [
            [
             0,
             "#0d0887"
            ],
            [
             0.1111111111111111,
             "#46039f"
            ],
            [
             0.2222222222222222,
             "#7201a8"
            ],
            [
             0.3333333333333333,
             "#9c179e"
            ],
            [
             0.4444444444444444,
             "#bd3786"
            ],
            [
             0.5555555555555556,
             "#d8576b"
            ],
            [
             0.6666666666666666,
             "#ed7953"
            ],
            [
             0.7777777777777778,
             "#fb9f3a"
            ],
            [
             0.8888888888888888,
             "#fdca26"
            ],
            [
             1,
             "#f0f921"
            ]
           ],
           "sequentialminus": [
            [
             0,
             "#0d0887"
            ],
            [
             0.1111111111111111,
             "#46039f"
            ],
            [
             0.2222222222222222,
             "#7201a8"
            ],
            [
             0.3333333333333333,
             "#9c179e"
            ],
            [
             0.4444444444444444,
             "#bd3786"
            ],
            [
             0.5555555555555556,
             "#d8576b"
            ],
            [
             0.6666666666666666,
             "#ed7953"
            ],
            [
             0.7777777777777778,
             "#fb9f3a"
            ],
            [
             0.8888888888888888,
             "#fdca26"
            ],
            [
             1,
             "#f0f921"
            ]
           ]
          },
          "colorway": [
           "#636efa",
           "#EF553B",
           "#00cc96",
           "#ab63fa",
           "#FFA15A",
           "#19d3f3",
           "#FF6692",
           "#B6E880",
           "#FF97FF",
           "#FECB52"
          ],
          "font": {
           "color": "#2a3f5f"
          },
          "geo": {
           "bgcolor": "white",
           "lakecolor": "white",
           "landcolor": "#E5ECF6",
           "showlakes": true,
           "showland": true,
           "subunitcolor": "white"
          },
          "hoverlabel": {
           "align": "left"
          },
          "hovermode": "closest",
          "mapbox": {
           "style": "light"
          },
          "paper_bgcolor": "white",
          "plot_bgcolor": "#E5ECF6",
          "polar": {
           "angularaxis": {
            "gridcolor": "white",
            "linecolor": "white",
            "ticks": ""
           },
           "bgcolor": "#E5ECF6",
           "radialaxis": {
            "gridcolor": "white",
            "linecolor": "white",
            "ticks": ""
           }
          },
          "scene": {
           "xaxis": {
            "backgroundcolor": "#E5ECF6",
            "gridcolor": "white",
            "gridwidth": 2,
            "linecolor": "white",
            "showbackground": true,
            "ticks": "",
            "zerolinecolor": "white"
           },
           "yaxis": {
            "backgroundcolor": "#E5ECF6",
            "gridcolor": "white",
            "gridwidth": 2,
            "linecolor": "white",
            "showbackground": true,
            "ticks": "",
            "zerolinecolor": "white"
           },
           "zaxis": {
            "backgroundcolor": "#E5ECF6",
            "gridcolor": "white",
            "gridwidth": 2,
            "linecolor": "white",
            "showbackground": true,
            "ticks": "",
            "zerolinecolor": "white"
           }
          },
          "shapedefaults": {
           "line": {
            "color": "#2a3f5f"
           }
          },
          "ternary": {
           "aaxis": {
            "gridcolor": "white",
            "linecolor": "white",
            "ticks": ""
           },
           "baxis": {
            "gridcolor": "white",
            "linecolor": "white",
            "ticks": ""
           },
           "bgcolor": "#E5ECF6",
           "caxis": {
            "gridcolor": "white",
            "linecolor": "white",
            "ticks": ""
           }
          },
          "title": {
           "x": 0.05
          },
          "xaxis": {
           "automargin": true,
           "gridcolor": "white",
           "linecolor": "white",
           "ticks": "",
           "title": {
            "standoff": 15
           },
           "zerolinecolor": "white",
           "zerolinewidth": 2
          },
          "yaxis": {
           "automargin": true,
           "gridcolor": "white",
           "linecolor": "white",
           "ticks": "",
           "title": {
            "standoff": 15
           },
           "zerolinecolor": "white",
           "zerolinewidth": 2
          }
         }
        }
       }
      }
     },
     "metadata": {},
     "output_type": "display_data"
    }
   ],
   "source": [
    "import plotly.express as px\n",
    "import seaborn as sns\n",
    "\n",
    "import plotly.express as px\n",
    "import seaborn as sns\n",
    "fig = px.sunburst(tips, \n",
    "                  path=['sex','smoker', 'day', 'time'], \n",
    "                  values='tip' , color='sex',\n",
    "                  hover_data=['tip', 'day', 'time'])\n",
    "# how can we add more values when we hover the pointer on the plot?\n",
    "# Show the plot\n",
    "fig.show()"
   ]
  }
 ],
 "metadata": {
  "kernelspec": {
   "display_name": "python_eda",
   "language": "python",
   "name": "python3"
  },
  "language_info": {
   "codemirror_mode": {
    "name": "ipython",
    "version": 3
   },
   "file_extension": ".py",
   "mimetype": "text/x-python",
   "name": "python",
   "nbconvert_exporter": "python",
   "pygments_lexer": "ipython3",
   "version": "3.12.0"
  }
 },
 "nbformat": 4,
 "nbformat_minor": 2
}
